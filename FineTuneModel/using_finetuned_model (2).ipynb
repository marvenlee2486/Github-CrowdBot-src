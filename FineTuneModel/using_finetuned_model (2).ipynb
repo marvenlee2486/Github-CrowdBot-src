{
 "cells": [
  {
   "cell_type": "code",
   "execution_count": 222,
   "metadata": {},
   "outputs": [],
   "source": [
    "from openai import OpenAI\n",
    "import pandas as pd\n",
    "import json"
   ]
  },
  {
   "cell_type": "code",
   "execution_count": 223,
   "metadata": {},
   "outputs": [],
   "source": [
    "API_KEY = \"API_KEY\"\n",
    "JOB_ID = \"JOB_ID\"\n",
    "\n",
    "temperature = 0.1"
   ]
  },
  {
   "cell_type": "code",
   "execution_count": 224,
   "metadata": {},
   "outputs": [],
   "source": [
    "client = OpenAI(api_key=API_KEY)\n",
    "model_name_pre_object = client.fine_tuning.jobs.retrieve(JOB_ID)\n",
    "model_name = model_name_pre_object.fine_tuned_model"
   ]
  },
  {
   "cell_type": "markdown",
   "metadata": {},
   "source": [
    "# How to use pre-tuned model?"
   ]
  },
  {
   "cell_type": "code",
   "execution_count": 225,
   "metadata": {},
   "outputs": [],
   "source": [
    "prompt = \\\n",
    "    \"You are tasked with analyzing a C++, SQL, Java code language which focus in cloud security identify security vulnerabilities. \"\\\n",
    "    \"The input of the model will be stricly code text.\" \\\n",
    "    \"Your response / output should be in the following json format:\\n\\n\"\\\n",
    "    \"title\\n-----------\\n$title_goes_here\\n-----------\\n\\n \"\\\n",
    "    \"isFixNecessary\\n-----------\\n$boolean result (true / false)\\n-----------\\n\\n \"\\\n",
    "    \"reasoning\\n-----------\\n#reasoning_goes_here\\n-----------\\n\\n \"\\\n",
    "    \"ammended code\\n-----------\\n$ammended_code_goes_here\\n-----------\\n```\\n\\n \"\\\n",
    "    \"Follow this format strictly and order has to be the same. Do not say anything else. This is the code: \"\n",
    "\n",
    "system_message = \\\n",
    "  \"Given a piece of C++, SQL, or Java code focused on cloud security, analyze the code for security vulnerabilities.\" \\\n",
    "  \"If a fix is necessary, provide reasoning and suggest an amended code in the same programming language.\"\\\n",
    "  \"Use json as output.\"\n",
    "\n",
    "sample_code = \\\n",
    "  \"#include<iostream>\\nusing namespace std;\\nint main() {\\n    int password;\\n    cout << \\\"Enter your password: \\\";\\n    cin >> password;\\n    if(password == 1234) {\\n        cout << \\\"Access granted.\\\";\\n    } else {\\n        cout << \\\"Access denied.\\\";\\n    }\\n    return 0;\\n}\""
   ]
  },
  {
   "cell_type": "code",
   "execution_count": 226,
   "metadata": {},
   "outputs": [
    {
     "name": "stdout",
     "output_type": "stream",
     "text": [
      "[{'role': 'system', 'content': 'You are tasked with analyzing a C++, SQL, Java code language which focus in cloud security identify security vulnerabilities. The input of the model will be stricly code text.Your response / output should be in the following json format:\\n\\ntitle\\n-----------\\n$title_goes_here\\n-----------\\n\\n isFixNecessary\\n-----------\\n$boolean result (true / false)\\n-----------\\n\\n reasoning\\n-----------\\n#reasoning_goes_here\\n-----------\\n\\n ammended code\\n-----------\\n$ammended_code_goes_here\\n-----------\\n```\\n\\n Follow this format strictly and order has to be the same. Do not say anything else. This is the code: Given a piece of C++, SQL, or Java code focused on cloud security, analyze the code for security vulnerabilities.If a fix is necessary, provide reasoning and suggest an amended code in the same programming language.Use json as output.'}, {'role': 'user', 'content': '#include<iostream>\\nusing namespace std;\\nint main() {\\n    int password;\\n    cout << \"Enter your password: \";\\n    cin >> password;\\n    if(password == 1234) {\\n        cout << \"Access granted.\";\\n    } else {\\n        cout << \"Access denied.\";\\n    }\\n    return 0;\\n}'}]\n"
     ]
    }
   ],
   "source": [
    "# THIS WILL INCUR COST\n",
    "sample_message = [\n",
    "{\n",
    "  \"role\": \"system\",\n",
    "  \"content\": prompt + system_message,\n",
    "},\n",
    "{\n",
    "    \"role\": \"user\",\n",
    "    \"content\": sample_code,\n",
    "}\n",
    "]\n",
    "response = client.chat.completions.create(\n",
    "    model=model_name,\n",
    "    messages= sample_message,\n",
    "    max_tokens=2000,\n",
    "    response_format={ \"type\": \"json_object\" },\n",
    ")\n",
    "\n",
    "output = response.choices[0].message.content\n",
    "print(sample_message)"
   ]
  },
  {
   "cell_type": "markdown",
   "metadata": {},
   "source": [
    "# How to parse output to json?"
   ]
  },
  {
   "cell_type": "code",
   "execution_count": 227,
   "metadata": {},
   "outputs": [],
   "source": [
    "def parse_output_to_json(input_text, json_output, system_message):\n",
    "    # Parse the JSON string output to a dictionary\n",
    "    response_details = json.loads(json_output)\n",
    "\n",
    "    # Create lists for prompts and responses\n",
    "    prompts = [input_text]\n",
    "    responses = [response_details]\n",
    "\n",
    "    # Create a DataFrame from the prompts and responses\n",
    "    df = pd.DataFrame({\n",
    "        'prompt': prompts,\n",
    "        'response': responses\n",
    "    })\n",
    "\n",
    "    print('There are ' + str(len(df)) + ' successfully-generated examples.')\n",
    "\n",
    "    # Initialize list to store training examples\n",
    "    outputs = []\n",
    "\n",
    "    # Create training examples in the format required for GPT-3.5 fine-tuning\n",
    "    for _, row in df.iterrows():\n",
    "        output = {\n",
    "            \"messages\": [\n",
    "                {\"role\": \"system\", \"content\": system_message.strip()},\n",
    "                {\"role\": \"user\", \"content\": row['prompt']},\n",
    "                {\"role\": \"assistant\", \"content\": row['response']}\n",
    "            ]\n",
    "        }\n",
    "        outputs.append(output)\n",
    "\n",
    "    # Save training examples to a .jsonl file in a prettier format\n",
    "    with open('output.jsonl', 'w') as f:\n",
    "        for output in outputs:\n",
    "            # Use indent=4 for pretty-printing JSON\n",
    "            f.write(json.dumps(output, indent=4) + '\\n')"
   ]
  },
  {
   "cell_type": "code",
   "execution_count": 228,
   "metadata": {},
   "outputs": [
    {
     "name": "stdout",
     "output_type": "stream",
     "text": [
      "There are 1 successfully-generated examples.\n"
     ]
    }
   ],
   "source": [
    "parse_output_to_json(sample_code, output, system_message)"
   ]
  },
  {
   "cell_type": "code",
   "execution_count": null,
   "metadata": {},
   "outputs": [],
   "source": []
  }
 ],
 "metadata": {
  "kernelspec": {
   "display_name": "venv",
   "language": "python",
   "name": "python3"
  },
  "language_info": {
   "codemirror_mode": {
    "name": "ipython",
    "version": 3
   },
   "file_extension": ".py",
   "mimetype": "text/x-python",
   "name": "python",
   "nbconvert_exporter": "python",
   "pygments_lexer": "ipython3",
   "version": "3.10.13"
  }
 },
 "nbformat": 4,
 "nbformat_minor": 2
}
